{
 "cells": [
  {
   "cell_type": "code",
   "execution_count": null,
   "id": "f9247c23",
   "metadata": {},
   "outputs": [
    {
     "name": "stdout",
     "output_type": "stream",
     "text": [
      "SmartBot: Hi! Type 'bye' to exit.\n",
      "You: joke\n",
      "SmartBot: Why was the math book sad? Because it had too many problems.\n"
     ]
    }
   ],
   "source": [
    "# Advanced Beginner Chatbot\n",
    "# Author: [PREM SAH]\n",
    "\n",
    "import random\n",
    "import datetime\n",
    "\n",
    "# List of jokes\n",
    "jokes = [\n",
    "    \"Why don’t scientists trust atoms? Because they make up everything!\",\n",
    "    \"Why did the computer go to therapy? It had too many bugs.\",\n",
    "    \"Why was the math book sad? Because it had too many problems.\"\n",
    "]\n",
    "\n",
    "# Global variable to store user's name\n",
    "user_name = \"\"\n",
    "\n",
    "def chatbot_response(user_input):\n",
    "    global user_name\n",
    "    user_input = user_input.lower()\n",
    "\n",
    "    # Greeting and name\n",
    "    if \"hello\" in user_input or \"hi\" in user_input:\n",
    "        if user_name:\n",
    "            return f\"Hello {user_name}! How can I help you today?\"\n",
    "        else:\n",
    "            return \"Hello! What’s your name?\"\n",
    "    \n",
    "    elif \"my name is\" in user_input:\n",
    "        user_name = user_input.split(\"my name is\")[-1].strip().capitalize()\n",
    "        return f\"Nice to meet you, {user_name}!\"\n",
    "    \n",
    "    elif \"your name\" in user_input:\n",
    "        return \"I'm SmartBot, your friendly chatbot.\"\n",
    "\n",
    "    # How are you?\n",
    "    elif \"how are you\" in user_input:\n",
    "        return \"I'm just a chatbot, but I'm doing great! How about you?\"\n",
    "\n",
    "    # Telling jokes\n",
    "    elif \"joke\" in user_input:\n",
    "        return random.choice(jokes)\n",
    "\n",
    "    # Date and time\n",
    "    elif \"time\" in user_input:\n",
    "        return f\"The current time is {datetime.datetime.now().strftime('%H:%M:%S')}.\"\n",
    "    elif \"date\" in user_input:\n",
    "        return f\"Today's date is {datetime.datetime.now().strftime('%Y-%m-%d')}.\"\n",
    "\n",
    "    # Goodbye\n",
    "    elif \"bye\" in user_input:\n",
    "        return \"Goodbye! Have a fantastic day!\"\n",
    "\n",
    "    else:\n",
    "        return \"I'm not sure I understand. Can you try asking something else?\"\n",
    "\n",
    "def chat():\n",
    "    print(\"SmartBot: Hi! Type 'bye' to exit.\")\n",
    "    while True:\n",
    "        user_input = input(\"You: \")\n",
    "        if user_input.lower() == \"bye\":\n",
    "            print(\"SmartBot: Goodbye! 👋\")\n",
    "            break\n",
    "        response = chatbot_response(user_input)\n",
    "        print(\"SmartBot:\", response)\n",
    "\n",
    "# Run chatbot\n",
    "if __name__ == \"__main__\":\n",
    "    chat()\n"
   ]
  },
  {
   "cell_type": "code",
   "execution_count": null,
   "id": "7ca4ffa3",
   "metadata": {},
   "outputs": [],
   "source": []
  }
 ],
 "metadata": {
  "kernelspec": {
   "display_name": "Python 3 (ipykernel)",
   "language": "python",
   "name": "python3"
  },
  "language_info": {
   "codemirror_mode": {
    "name": "ipython",
    "version": 3
   },
   "file_extension": ".py",
   "mimetype": "text/x-python",
   "name": "python",
   "nbconvert_exporter": "python",
   "pygments_lexer": "ipython3",
   "version": "3.9.12"
  }
 },
 "nbformat": 4,
 "nbformat_minor": 5
}
